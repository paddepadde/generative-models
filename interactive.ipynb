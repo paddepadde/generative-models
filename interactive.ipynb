{
 "cells": [
  {
   "cell_type": "markdown",
   "metadata": {},
   "source": [
    "## Interactive Digit Generator\n",
    "\n",
    "Use the sliders to modify the latent vector $z$ and visualize the change of the reconstructed digit.   \n",
    "Requires the usage of the [ipywidgets](https://ipywidgets.readthedocs.io/en/latest/user_install.html) notebook extension."
   ]
  },
  {
   "cell_type": "code",
   "execution_count": 16,
   "metadata": {},
   "outputs": [],
   "source": [
    "import torch\n",
    "import ipywidgets as widgets\n",
    "import matplotlib.pyplot as plt\n",
    "import numpy as np\n",
    "from models import ConvVAE"
   ]
  },
  {
   "cell_type": "code",
   "execution_count": 17,
   "metadata": {},
   "outputs": [
    {
     "name": "stdout",
     "output_type": "stream",
     "text": [
      "ConvVAE(\n",
      "  (conv1): Conv2d(1, 16, kernel_size=(3, 3), stride=(1, 1))\n",
      "  (conv2): Conv2d(16, 32, kernel_size=(3, 3), stride=(2, 2))\n",
      "  (conv3): Conv2d(32, 16, kernel_size=(3, 3), stride=(1, 1))\n",
      "  (encoder_fc_1): Linear(in_features=1600, out_features=512, bias=True)\n",
      "  (encoder_mu): Linear(in_features=512, out_features=3, bias=True)\n",
      "  (encoder_logvar): Linear(in_features=512, out_features=3, bias=True)\n",
      "  (decoder_fc_1): Linear(in_features=3, out_features=512, bias=True)\n",
      "  (decoder_fc_2): Linear(in_features=512, out_features=1600, bias=True)\n",
      "  (deconv1): ConvTranspose2d(16, 32, kernel_size=(3, 3), stride=(1, 1))\n",
      "  (deconv2): ConvTranspose2d(32, 16, kernel_size=(3, 3), stride=(2, 2), output_padding=(1, 1))\n",
      "  (deconv3): ConvTranspose2d(16, 1, kernel_size=(3, 3), stride=(1, 1))\n",
      ")\n"
     ]
    }
   ],
   "source": [
    "# Load saved and trained VAE model\n",
    "model_weights = torch.load('models/mnist_dc_vae.pt')\n",
    "model = ConvVAE(latent_size=3)\n",
    "model.load_state_dict(model_weights)\n",
    "print(model)"
   ]
  },
  {
   "cell_type": "code",
   "execution_count": 45,
   "metadata": {},
   "outputs": [
    {
     "name": "stdout",
     "output_type": "stream",
     "text": [
      "Change latent variable z by controlling the sliders:\n"
     ]
    },
    {
     "data": {
      "application/vnd.jupyter.widget-view+json": {
       "model_id": "501de9ec18bc479faff584d926cbc197",
       "version_major": 2,
       "version_minor": 0
      },
      "text/plain": [
       "HBox(children=(FloatSlider(value=0.0, max=4.0, min=-4.0, step=0.02), FloatSlider(value=0.0, max=4.0, min=-4.0,…"
      ]
     },
     "metadata": {},
     "output_type": "display_data"
    },
    {
     "data": {
      "application/vnd.jupyter.widget-view+json": {
       "model_id": "fd0a9203e9074695820436fdd64bd1e1",
       "version_major": 2,
       "version_minor": 0
      },
      "text/plain": [
       "Output()"
      ]
     },
     "metadata": {},
     "output_type": "display_data"
    }
   ],
   "source": [
    "%matplotlib inline\n",
    "print('Change latent variable z by controlling the sliders:')\n",
    "\n",
    "# The latent vector z of the model has three dimensions\n",
    "z_slider = [widgets.FloatSlider(value=0, min=-4, max=4, step=0.02, continuous_update=True) for i in range(3)]\n",
    "ui = widgets.HBox(z_slider)\n",
    "\n",
    "def reconstruct(z_0, z_1, z_2):\n",
    "    z = np.array([[z_0, z_1, z_2]], dtype=np.float32)\n",
    "    z = torch.from_numpy(z)\n",
    "    x_hat = model.decode(z)\n",
    "    x_hat = x_hat.view(28, 28).detach().numpy()   \n",
    "    return x_hat\n",
    "\n",
    "def slider_change(z_0, z_1, z_2):\n",
    "    plt.imshow(reconstruct(z_0, z_1, z_2), cmap='gray')                       \n",
    "\n",
    "out = widgets.interactive_output(slider_change, \n",
    "    {'z_0': z_slider[0], 'z_1': z_slider[1], 'z_2': z_slider[2]})\n",
    "display(ui, out)"
   ]
  },
  {
   "cell_type": "code",
   "execution_count": null,
   "metadata": {},
   "outputs": [],
   "source": []
  }
 ],
 "metadata": {
  "file_extension": ".py",
  "kernelspec": {
   "display_name": "Python 3.6.2 64-bit",
   "language": "python",
   "name": "python36264bitf180696602344bcfbb190b4d6ff06a57"
  },
  "language_info": {
   "codemirror_mode": {
    "name": "ipython",
    "version": 3
   },
   "file_extension": ".py",
   "mimetype": "text/x-python",
   "name": "python",
   "nbconvert_exporter": "python",
   "pygments_lexer": "ipython3",
   "version": "3.6.2"
  },
  "mimetype": "text/x-python",
  "name": "python",
  "npconvert_exporter": "python",
  "pygments_lexer": "ipython3",
  "version": 3
 },
 "nbformat": 4,
 "nbformat_minor": 2
}
