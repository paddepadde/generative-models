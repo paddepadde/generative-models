{
 "nbformat": 4,
 "nbformat_minor": 2,
 "metadata": {
  "language_info": {
   "name": "python",
   "codemirror_mode": {
    "name": "ipython",
    "version": 3
   },
   "version": "3.6.2-final"
  },
  "orig_nbformat": 2,
  "file_extension": ".py",
  "mimetype": "text/x-python",
  "name": "python",
  "npconvert_exporter": "python",
  "pygments_lexer": "ipython3",
  "version": 3,
  "kernelspec": {
   "name": "python36264bitf180696602344bcfbb190b4d6ff06a57",
   "display_name": "Python 3.6.2 64-bit"
  }
 },
 "cells": [
  {
   "cell_type": "markdown",
   "metadata": {},
   "source": [
    "## Interactive Digit Generator\n",
    "\n",
    "Use the sliders to modify the latent vector $z$ and visualize the change of the reconstructed digit.   \n",
    "Requires the usage of the [ipywidgets](https://ipywidgets.readthedocs.io/en/latest/user_install.html) notebook extension."
   ]
  },
  {
   "cell_type": "code",
   "execution_count": 9,
   "metadata": {},
   "outputs": [],
   "source": [
    "import torch\n",
    "import ipywidgets as widgets\n",
    "import matplotlib.pyplot as plt\n",
    "import numpy as np\n",
    "from models import ConvVAE"
   ]
  },
  {
   "cell_type": "code",
   "execution_count": 10,
   "metadata": {},
   "outputs": [
    {
     "name": "stdout",
     "output_type": "stream",
     "text": "ConvVAE(\n  (conv1): Conv2d(1, 16, kernel_size=(3, 3), stride=(1, 1))\n  (conv2): Conv2d(16, 32, kernel_size=(3, 3), stride=(2, 2))\n  (conv3): Conv2d(32, 16, kernel_size=(3, 3), stride=(1, 1))\n  (encoder_fc_1): Linear(in_features=1600, out_features=512, bias=True)\n  (encoder_mu): Linear(in_features=512, out_features=3, bias=True)\n  (encoder_logvar): Linear(in_features=512, out_features=3, bias=True)\n  (decoder_fc_1): Linear(in_features=3, out_features=512, bias=True)\n  (decoder_fc_2): Linear(in_features=512, out_features=1600, bias=True)\n  (deconv1): ConvTranspose2d(16, 32, kernel_size=(3, 3), stride=(1, 1))\n  (deconv2): ConvTranspose2d(32, 16, kernel_size=(3, 3), stride=(2, 2), output_padding=(1, 1))\n  (deconv3): ConvTranspose2d(16, 1, kernel_size=(3, 3), stride=(1, 1))\n)\n"
    }
   ],
   "source": [
    "# Load saved and trained VAE model\n",
    "model_weights = torch.load('models/mnist_dc_vae.pt')\n",
    "model = ConvVAE(latent_size=3)\n",
    "model.load_state_dict(model_weights)\n",
    "print(model)"
   ]
  },
  {
   "cell_type": "code",
   "execution_count": 13,
   "metadata": {},
   "outputs": [
    {
     "name": "stdout",
     "output_type": "stream",
     "text": "0.0\n"
    },
    {
     "data": {
      "application/vnd.jupyter.widget-view+json": {
       "model_id": "c1fcda873d614b2eabecbc0814c18c93",
       "version_major": 2,
       "version_minor": 0
      },
      "text/plain": "HBox(children=(FloatSlider(value=0.0, max=4.0, min=-4.0), FloatSlider(value=0.0, max=4.0, min=-4.0), FloatSlid…"
     },
     "metadata": {},
     "output_type": "display_data"
    },
    {
     "data": {
      "application/vnd.jupyter.widget-view+json": {
       "model_id": "52a1bcca5dd54e898c191c9fc95d4d32",
       "version_major": 2,
       "version_minor": 0
      },
      "text/plain": "Output()"
     },
     "metadata": {},
     "output_type": "display_data"
    }
   ],
   "source": [
    "# The latent vector z of the model has three dimensions\n",
    "print('Change latent variable z by controlling the sliders.')\n",
    "z_slider = [widgets.FloatSlider(value=0, min=-4, max=4, step=0.02) for i in range(3)]\n",
    "ui = widgets.HBox(z_slider)\n",
    "\n",
    "def slider_change(z_0, z_1, z_2):\n",
    "    print(z_0)\n",
    "\n",
    "\n",
    "out = widgets.interactive_output(slider_change, \n",
    "    {'z_0': z_slider[0], 'z_1': z_slider[1], 'z_2': z_slider[2]})\n",
    "display(ui, out)"
   ]
  },
  {
   "cell_type": "code",
   "execution_count": null,
   "metadata": {},
   "outputs": [],
   "source": []
  }
 ]
}